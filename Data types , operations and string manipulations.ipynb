{
 "cells": [
  {
   "cell_type": "markdown",
   "id": "c61d0524",
   "metadata": {},
   "source": [
    "### Data Types\n",
    "1. Numerical - Float(1.2,4.3,54.5,... and integer(1,2,3..)\n",
    "2. String \n",
    "3. Boolean"
   ]
  },
  {
   "cell_type": "markdown",
   "id": "87d336a3",
   "metadata": {},
   "source": [
    "### Numeric"
   ]
  },
  {
   "cell_type": "code",
   "execution_count": 1,
   "id": "09e3d47e",
   "metadata": {
    "scrolled": true
   },
   "outputs": [
    {
     "name": "stdout",
     "output_type": "stream",
     "text": [
      "34\n",
      "5.4\n",
      "<class 'int'>\n",
      "<class 'float'>\n"
     ]
    }
   ],
   "source": [
    "#Numeric data type is numbers like integers , float,etc\n",
    "val1=34             #Integer\n",
    "val2=5.4           #Float\n",
    "print(val1)\n",
    "print(val2)\n",
    "\n",
    "\n",
    "#Type function is used to  check the data type\n",
    "print(type(val1))   #type of val1\n",
    "print(type(val2))   #type of val2"
   ]
  },
  {
   "cell_type": "code",
   "execution_count": 2,
   "id": "06e342eb",
   "metadata": {},
   "outputs": [
    {
     "data": {
      "text/plain": [
       "34.0"
      ]
     },
     "execution_count": 2,
     "metadata": {},
     "output_type": "execute_result"
    }
   ],
   "source": [
    "#Convert integer value to float\n",
    "float(val1)"
   ]
  },
  {
   "cell_type": "code",
   "execution_count": 3,
   "id": "f0f4bc20",
   "metadata": {
    "scrolled": true
   },
   "outputs": [
    {
     "data": {
      "text/plain": [
       "5"
      ]
     },
     "execution_count": 3,
     "metadata": {},
     "output_type": "execute_result"
    }
   ],
   "source": [
    "#convert float value to integer\n",
    "int(val2)"
   ]
  },
  {
   "cell_type": "markdown",
   "id": "697c1192",
   "metadata": {},
   "source": [
    "### String\n",
    "it is text of words or sentence . "
   ]
  },
  {
   "cell_type": "code",
   "execution_count": 4,
   "id": "22577270",
   "metadata": {},
   "outputs": [
    {
     "name": "stdout",
     "output_type": "stream",
     "text": [
      "Hello World\n"
     ]
    }
   ],
   "source": [
    " \n",
    "#string is basically text data\n",
    "str1=\"Hello World\"\n",
    "print(str1)"
   ]
  },
  {
   "cell_type": "code",
   "execution_count": 5,
   "id": "7f0a812e",
   "metadata": {},
   "outputs": [
    {
     "name": "stdout",
     "output_type": "stream",
     "text": [
      "Jai\n"
     ]
    }
   ],
   "source": [
    "#string is assigned to variable by {\"__\"}\n",
    "name1=\"Jai\"\n",
    "print(name1)"
   ]
  },
  {
   "cell_type": "code",
   "execution_count": 6,
   "id": "a3941943",
   "metadata": {},
   "outputs": [
    {
     "data": {
      "text/plain": [
       "'34'"
      ]
     },
     "execution_count": 6,
     "metadata": {},
     "output_type": "execute_result"
    }
   ],
   "source": [
    "#string is always stored in singl or double inverted comma\n",
    "str(val1)    #numbers can also be included in string by changing their type to string"
   ]
  },
  {
   "cell_type": "markdown",
   "id": "32a791bc",
   "metadata": {},
   "source": [
    "### Boolean"
   ]
  },
  {
   "cell_type": "code",
   "execution_count": 7,
   "id": "323e7b0b",
   "metadata": {},
   "outputs": [
    {
     "name": "stdout",
     "output_type": "stream",
     "text": [
      "True\n",
      "False\n"
     ]
    }
   ],
   "source": [
    "#Boolean\n",
    "#Boolean data type can have two possible values i.e. True or False\n",
    "bool1=True\n",
    "bool2=False\n",
    "print(bool1)\n",
    "print(bool2)"
   ]
  },
  {
   "cell_type": "markdown",
   "id": "ce09cb0a",
   "metadata": {},
   "source": [
    "### Performing arithmetic operations in python"
   ]
  },
  {
   "cell_type": "code",
   "execution_count": 8,
   "id": "9002c503",
   "metadata": {},
   "outputs": [
    {
     "name": "stdout",
     "output_type": "stream",
     "text": [
      "39.4\n",
      "28.6\n",
      "183.60000000000002\n",
      "6.296296296296296\n"
     ]
    }
   ],
   "source": [
    "a=val1\n",
    "b=val2\n",
    "\n",
    "#addition\n",
    "add=print(a+b)\n",
    "\n",
    "#subtraction\n",
    "sub=print(a-b)\n",
    "\n",
    "#multiplication\n",
    "mult=(print(a*b))\n",
    "\n",
    "#division\n",
    "div=print(a/b)"
   ]
  },
  {
   "cell_type": "code",
   "execution_count": 9,
   "id": "269f6ee8",
   "metadata": {},
   "outputs": [
    {
     "name": "stdout",
     "output_type": "stream",
     "text": [
      "True\n",
      "False\n",
      "False\n",
      "True\n",
      "False\n"
     ]
    }
   ],
   "source": [
    "#logical operators (<,>,<=,>=,)\n",
    "a=5\n",
    "b=13\n",
    "\n",
    "#the logical operators as printed as true or false\n",
    "print(a<b)     \n",
    "print(a>b)\n",
    "print(a==b)\n",
    "print(a<=b)\n",
    "print(a>=b)"
   ]
  },
  {
   "cell_type": "markdown",
   "id": "96eec0f6",
   "metadata": {},
   "source": [
    "Arithmetic operations can also be done in simpler way as:-"
   ]
  },
  {
   "cell_type": "code",
   "execution_count": 10,
   "id": "fe9fa7c9",
   "metadata": {},
   "outputs": [],
   "source": [
    "y=4"
   ]
  },
  {
   "cell_type": "code",
   "execution_count": 11,
   "id": "1e0aad8e",
   "metadata": {},
   "outputs": [],
   "source": [
    "x=10"
   ]
  },
  {
   "cell_type": "code",
   "execution_count": 12,
   "id": "276a1a33",
   "metadata": {},
   "outputs": [
    {
     "data": {
      "text/plain": [
       "30"
      ]
     },
     "execution_count": 12,
     "metadata": {},
     "output_type": "execute_result"
    }
   ],
   "source": [
    "x=10+20\n",
    "x"
   ]
  },
  {
   "cell_type": "code",
   "execution_count": 13,
   "id": "1bf41df1",
   "metadata": {
    "scrolled": true
   },
   "outputs": [
    {
     "data": {
      "text/plain": [
       "50"
      ]
     },
     "execution_count": 13,
     "metadata": {},
     "output_type": "execute_result"
    }
   ],
   "source": [
    "x+=20 #x=x+20\n",
    "x"
   ]
  },
  {
   "cell_type": "code",
   "execution_count": 14,
   "id": "abe1cfe1",
   "metadata": {},
   "outputs": [
    {
     "data": {
      "text/plain": [
       "2"
      ]
     },
     "execution_count": 14,
     "metadata": {},
     "output_type": "execute_result"
    }
   ],
   "source": [
    "y-=2\n",
    "y"
   ]
  },
  {
   "cell_type": "code",
   "execution_count": 15,
   "id": "b0f43f3a",
   "metadata": {},
   "outputs": [
    {
     "name": "stdout",
     "output_type": "stream",
     "text": [
      "x: 15\n",
      "y: 5\n"
     ]
    }
   ],
   "source": [
    "\n",
    "x=10\n",
    "y=5\n",
    "x+=y # assignment always goes to first variable i.e. x-->x=x+y\n",
    "print('x:',x)\n",
    "print('y:',y)"
   ]
  },
  {
   "cell_type": "markdown",
   "id": "a36c02ba",
   "metadata": {},
   "source": [
    "### String Manipulations"
   ]
  },
  {
   "cell_type": "code",
   "execution_count": 16,
   "id": "51610e10",
   "metadata": {
    "scrolled": true
   },
   "outputs": [
    {
     "name": "stdout",
     "output_type": "stream",
     "text": [
      "Hello World\n",
      "<class 'str'>\n",
      "she said,\"what time is it?\"\n",
      "<class 'str'>\n"
     ]
    }
   ],
   "source": [
    "str1=\"Hello World\"\n",
    "print(str1)\n",
    "print(type(str1))\n",
    "txt=\"she said,\\\"what time is it?\\\"\"   #as double inverted comma cannot be used in string function which starts by double inverted comma at that time \\ is used to escape from that error\n",
    "print(txt)\n",
    "print(type(txt))"
   ]
  },
  {
   "cell_type": "code",
   "execution_count": 17,
   "id": "b1913734",
   "metadata": {},
   "outputs": [
    {
     "name": "stdout",
     "output_type": "stream",
     "text": [
      "Jai Nale\n"
     ]
    }
   ],
   "source": [
    "#String connection \n",
    "sent1=\"Jai\"\n",
    "sent2=\" Nale\"\n",
    "\n",
    "name=sent1+sent2\n",
    "print(name)"
   ]
  },
  {
   "cell_type": "code",
   "execution_count": 18,
   "id": "5cfa9d08",
   "metadata": {},
   "outputs": [
    {
     "name": "stdout",
     "output_type": "stream",
     "text": [
      "kghgm\n"
     ]
    },
    {
     "data": {
      "text/plain": [
       "'kjhjm'"
      ]
     },
     "execution_count": 18,
     "metadata": {},
     "output_type": "execute_result"
    }
   ],
   "source": [
    "#replacement of text in string\n",
    "x1=\"kghgm\"\n",
    "print(x1)\n",
    "x1.replace(\"g\",\"j\")"
   ]
  },
  {
   "cell_type": "markdown",
   "id": "9767baf6",
   "metadata": {},
   "source": [
    "### Indexing  \n",
    "Indexing is extracting single value in a perticular location. Indexing is done by assigning numbers to every alphabet starting with zero.\n"
   ]
  },
  {
   "cell_type": "code",
   "execution_count": 19,
   "id": "39adef38",
   "metadata": {},
   "outputs": [
    {
     "name": "stdout",
     "output_type": "stream",
     "text": [
      "Jai Nale\n",
      "i\n",
      "J\n",
      "8\n"
     ]
    }
   ],
   "source": [
    "print(name)\n",
    "print(name[2])    #extract value at index 2\n",
    "print(name[0])    #extract value at index 0\n",
    "print(len(name))   #length of text "
   ]
  },
  {
   "cell_type": "code",
   "execution_count": 20,
   "id": "180daa68",
   "metadata": {},
   "outputs": [
    {
     "name": "stdout",
     "output_type": "stream",
     "text": [
      "e\n"
     ]
    }
   ],
   "source": [
    "print(name[-1])    #to extract values in reverse order we can add '-' sign in front number we want"
   ]
  },
  {
   "cell_type": "markdown",
   "id": "5e91bad6",
   "metadata": {},
   "source": [
    "### place holder \n",
    "place holder is used when we want to add two different  string \n"
   ]
  },
  {
   "cell_type": "code",
   "execution_count": 21,
   "id": "5547d785",
   "metadata": {},
   "outputs": [
    {
     "data": {
      "text/plain": [
       "'my name is Jai'"
      ]
     },
     "execution_count": 21,
     "metadata": {},
     "output_type": "execute_result"
    }
   ],
   "source": [
    "state='my name is %s'   # %s is place holder which is used for adding string to extisting string\n",
    "state%('Jai')\n"
   ]
  },
  {
   "cell_type": "code",
   "execution_count": 22,
   "id": "7a930a46",
   "metadata": {},
   "outputs": [
    {
     "data": {
      "text/plain": [
       "'my age is 21'"
      ]
     },
     "execution_count": 22,
     "metadata": {},
     "output_type": "execute_result"
    }
   ],
   "source": [
    "age='my age is %d'   #%d is place holder which is used for adding number to existion string\n",
    "age%(21)"
   ]
  },
  {
   "cell_type": "markdown",
   "id": "cc3cc2d3",
   "metadata": {},
   "source": [
    "### String functions"
   ]
  },
  {
   "cell_type": "code",
   "execution_count": 23,
   "id": "bddfa558",
   "metadata": {},
   "outputs": [
    {
     "name": "stdout",
     "output_type": "stream",
     "text": [
      "     Hello World    \n",
      "<class 'str'>\n"
     ]
    }
   ],
   "source": [
    "txt1=\"     Hello World    \"\n",
    "print(txt1)\n",
    "print(type(txt1))"
   ]
  },
  {
   "cell_type": "code",
   "execution_count": 24,
   "id": "77d1a908",
   "metadata": {},
   "outputs": [
    {
     "data": {
      "text/plain": [
       "'Hello World'"
      ]
     },
     "execution_count": 24,
     "metadata": {},
     "output_type": "execute_result"
    }
   ],
   "source": [
    "#removing extra space in string\n",
    "txt1.strip() "
   ]
  },
  {
   "cell_type": "code",
   "execution_count": 25,
   "id": "88304764",
   "metadata": {},
   "outputs": [
    {
     "data": {
      "text/plain": [
       "'     hello world    '"
      ]
     },
     "execution_count": 25,
     "metadata": {},
     "output_type": "execute_result"
    }
   ],
   "source": [
    "txt1.lower()       #return whole string in lower case"
   ]
  },
  {
   "cell_type": "code",
   "execution_count": 26,
   "id": "24aaaa09",
   "metadata": {},
   "outputs": [
    {
     "data": {
      "text/plain": [
       "'     HELLO WORLD    '"
      ]
     },
     "execution_count": 26,
     "metadata": {},
     "output_type": "execute_result"
    }
   ],
   "source": [
    "txt1.upper()        #return whole string in upper case"
   ]
  },
  {
   "cell_type": "code",
   "execution_count": 27,
   "id": "62194f7e",
   "metadata": {},
   "outputs": [
    {
     "data": {
      "text/plain": [
       "5"
      ]
     },
     "execution_count": 27,
     "metadata": {},
     "output_type": "execute_result"
    }
   ],
   "source": [
    "#count \n",
    "txt2=\"one two one four six one five four one one \"\n",
    "txt2.count('one')        #count the number of times a word is repeated in string"
   ]
  }
 ],
 "metadata": {
  "kernelspec": {
   "display_name": "Python 3",
   "language": "python",
   "name": "python3"
  },
  "language_info": {
   "codemirror_mode": {
    "name": "ipython",
    "version": 3
   },
   "file_extension": ".py",
   "mimetype": "text/x-python",
   "name": "python",
   "nbconvert_exporter": "python",
   "pygments_lexer": "ipython3",
   "version": "3.8.8"
  }
 },
 "nbformat": 4,
 "nbformat_minor": 5
}
