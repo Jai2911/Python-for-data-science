{
 "cells": [
  {
   "cell_type": "markdown",
   "id": "0706393b",
   "metadata": {},
   "source": [
    "### Exercise 1\n",
    "### Create a tuple of 3 names: \"john\", \"sia\" and \"ria\""
   ]
  },
  {
   "cell_type": "code",
   "execution_count": 2,
   "id": "41550767",
   "metadata": {},
   "outputs": [
    {
     "name": "stdout",
     "output_type": "stream",
     "text": [
      "('john', 'sia', 'ria')\n",
      "<class 'tuple'>\n"
     ]
    }
   ],
   "source": [
    "tup1=(\"john\", \"sia\",\"ria\")\n",
    "print(tup1)\n",
    "print(type(tup1))"
   ]
  },
  {
   "cell_type": "markdown",
   "id": "4173fee9",
   "metadata": {},
   "source": [
    "### Exercise 2\n",
    "### Display the second object in the tuple"
   ]
  },
  {
   "cell_type": "code",
   "execution_count": 3,
   "id": "ec207079",
   "metadata": {},
   "outputs": [
    {
     "data": {
      "text/plain": [
       "'sia'"
      ]
     },
     "execution_count": 3,
     "metadata": {},
     "output_type": "execute_result"
    }
   ],
   "source": [
    "tup1[1]"
   ]
  },
  {
   "cell_type": "markdown",
   "id": "d106989a",
   "metadata": {},
   "source": [
    "### Exercise 3\n",
    "### Create a tuple containing the letters of your name from a strig "
   ]
  },
  {
   "cell_type": "code",
   "execution_count": 5,
   "id": "617700bb",
   "metadata": {},
   "outputs": [
    {
     "name": "stdout",
     "output_type": "stream",
     "text": [
      "['J', 'a', 'i']\n"
     ]
    }
   ],
   "source": [
    "str1=\"Jai\"\n",
    "tup2=(list(str1))\n",
    "print(tup2)"
   ]
  },
  {
   "cell_type": "markdown",
   "id": "a1a93f18",
   "metadata": {},
   "source": [
    "### Exercise 4\n",
    "### Create a list of 3 names: \"john\", \"sia\" and \"ria\""
   ]
  },
  {
   "cell_type": "code",
   "execution_count": 10,
   "id": "f3c4f973",
   "metadata": {},
   "outputs": [
    {
     "name": "stdout",
     "output_type": "stream",
     "text": [
      "['john', 'sia', 'ria']\n",
      "<class 'list'>\n"
     ]
    }
   ],
   "source": [
    "list1=[\"john\", \"sia\",\"ria\"]\n",
    "print(list1)\n",
    "print(type(list1))"
   ]
  },
  {
   "cell_type": "markdown",
   "id": "ac2f8b44",
   "metadata": {},
   "source": [
    "### Exercise 5\n",
    "### Append the string \"elena\" to the names list using .append()"
   ]
  },
  {
   "cell_type": "code",
   "execution_count": 11,
   "id": "352b1365",
   "metadata": {},
   "outputs": [
    {
     "name": "stdout",
     "output_type": "stream",
     "text": [
      "['john', 'sia', 'ria', 'elena']\n"
     ]
    }
   ],
   "source": [
    "list1.append(\"elena\")\n",
    "print(list1)"
   ]
  },
  {
   "cell_type": "markdown",
   "id": "168ab277",
   "metadata": {},
   "source": [
    "### Exercise 6\n",
    "### Print the last item in names list"
   ]
  },
  {
   "cell_type": "code",
   "execution_count": 13,
   "id": "2f0440d6",
   "metadata": {},
   "outputs": [
    {
     "name": "stdout",
     "output_type": "stream",
     "text": [
      "['john', 'sia', 'ria', 'elena']\n"
     ]
    }
   ],
   "source": [
    "names=list1\n",
    "print(names)"
   ]
  },
  {
   "cell_type": "markdown",
   "id": "c96d0a81",
   "metadata": {},
   "source": [
    "### Exercise 7\n",
    "### check 'john' name's length using len()"
   ]
  },
  {
   "cell_type": "code",
   "execution_count": 18,
   "id": "4bfcbd3c",
   "metadata": {},
   "outputs": [
    {
     "name": "stdout",
     "output_type": "stream",
     "text": [
      "4\n"
     ]
    }
   ],
   "source": [
    "print(len('john'))"
   ]
  },
  {
   "cell_type": "markdown",
   "id": "b70ff5f9",
   "metadata": {},
   "source": [
    "### Exercise 8\n",
    "### Create an empty dictionary"
   ]
  },
  {
   "cell_type": "code",
   "execution_count": 19,
   "id": "383cf950",
   "metadata": {},
   "outputs": [],
   "source": [
    "dict1={}"
   ]
  },
  {
   "cell_type": "markdown",
   "id": "bf84341b",
   "metadata": {},
   "source": [
    "### Exercise 9\n",
    "### Add some key-value pairs to the dictionary"
   ]
  },
  {
   "cell_type": "code",
   "execution_count": 22,
   "id": "dd3bf87a",
   "metadata": {},
   "outputs": [
    {
     "name": "stdout",
     "output_type": "stream",
     "text": [
      "{1: 'Red', 2: 'Yellow', 3: 'Blue'}\n"
     ]
    }
   ],
   "source": [
    "dict1[1]='Red'\n",
    "dict1[2]='Yellow'\n",
    "dict1[3]='Blue'\n",
    "print(dict1)"
   ]
  }
 ],
 "metadata": {
  "kernelspec": {
   "display_name": "Python 3",
   "language": "python",
   "name": "python3"
  },
  "language_info": {
   "codemirror_mode": {
    "name": "ipython",
    "version": 3
   },
   "file_extension": ".py",
   "mimetype": "text/x-python",
   "name": "python",
   "nbconvert_exporter": "python",
   "pygments_lexer": "ipython3",
   "version": "3.8.8"
  }
 },
 "nbformat": 4,
 "nbformat_minor": 5
}
