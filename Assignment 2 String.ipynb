{
 "cells": [
  {
   "cell_type": "markdown",
   "id": "6597103c",
   "metadata": {},
   "source": [
    "1. Print a string that uses double question mark inside the string."
   ]
  },
  {
   "cell_type": "code",
   "execution_count": 3,
   "id": "92314014",
   "metadata": {},
   "outputs": [
    {
     "name": "stdout",
     "output_type": "stream",
     "text": [
      "He asked,\"what is your name?\"and \"where are you from?\"\n"
     ]
    }
   ],
   "source": [
    "txt1='He asked,\"what is your name?\"and \"where are you from?\"'\n",
    "print(txt1)"
   ]
  },
  {
   "cell_type": "markdown",
   "id": "882b42a1",
   "metadata": {},
   "source": [
    "2. Print a string that uses an apostrophe inside the string."
   ]
  },
  {
   "cell_type": "code",
   "execution_count": 4,
   "id": "c6cf51a2",
   "metadata": {},
   "outputs": [
    {
     "name": "stdout",
     "output_type": "stream",
     "text": [
      "I'm planning to write a book someday\n"
     ]
    }
   ],
   "source": [
    "txt2=\"I'm planning to write a book someday\"\n",
    "print(txt2)"
   ]
  },
  {
   "cell_type": "markdown",
   "id": "a280fdaf",
   "metadata": {},
   "source": [
    "3. Print a string that spans multiple lines with whitespace preserved."
   ]
  },
  {
   "cell_type": "code",
   "execution_count": 11,
   "id": "4bc643be",
   "metadata": {},
   "outputs": [
    {
     "name": "stdout",
     "output_type": "stream",
     "text": [
      "      Hi, I'm Jai.   What's your name?\n"
     ]
    }
   ],
   "source": [
    "txt3=\"      Hi, I'm Jai.   What's your name?\"\n",
    "print(txt3)"
   ]
  },
  {
   "cell_type": "markdown",
   "id": "339d1b88",
   "metadata": {},
   "source": [
    "4. Print a string that is coded on multiple lines but gets printed on a single line."
   ]
  },
  {
   "cell_type": "code",
   "execution_count": 10,
   "id": "e18e7b8e",
   "metadata": {},
   "outputs": [
    {
     "name": "stdout",
     "output_type": "stream",
     "text": [
      "Hi,I'm Jai.What's your name?\n"
     ]
    }
   ],
   "source": [
    "txt4=\"Hi,\\\n",
    "I'm Jai.\\\n",
    "What's your name?\"\n",
    "print(txt4)"
   ]
  },
  {
   "cell_type": "markdown",
   "id": "3386bf29",
   "metadata": {},
   "source": [
    "5. correct following python code\n",
    "\n",
    "mystr = \"My favourite TV Series is \"Game of Thrones\"\""
   ]
  },
  {
   "cell_type": "code",
   "execution_count": 12,
   "id": "62f61c0b",
   "metadata": {},
   "outputs": [
    {
     "name": "stdout",
     "output_type": "stream",
     "text": [
      "My favourite TV Series is \"Game of Thrones\"\n"
     ]
    }
   ],
   "source": [
    "mystr='My favourite TV Series is \"Game of Thrones\"'\n",
    "print(mystr)"
   ]
  }
 ],
 "metadata": {
  "kernelspec": {
   "display_name": "Python 3",
   "language": "python",
   "name": "python3"
  },
  "language_info": {
   "codemirror_mode": {
    "name": "ipython",
    "version": 3
   },
   "file_extension": ".py",
   "mimetype": "text/x-python",
   "name": "python",
   "nbconvert_exporter": "python",
   "pygments_lexer": "ipython3",
   "version": "3.8.8"
  }
 },
 "nbformat": 4,
 "nbformat_minor": 5
}
