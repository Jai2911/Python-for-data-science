{
 "cells": [
  {
   "cell_type": "markdown",
   "id": "7115a93d",
   "metadata": {},
   "source": [
    "1. Why python is popular in data science?"
   ]
  },
  {
   "cell_type": "markdown",
   "id": "61d69f9d",
   "metadata": {},
   "source": [
    "Python is popular in data science as it it easy to use and also easy to learn for beginners. "
   ]
  },
  {
   "cell_type": "markdown",
   "id": "a15c38c2",
   "metadata": {},
   "source": [
    "2. print your name in python"
   ]
  },
  {
   "cell_type": "code",
   "execution_count": 1,
   "id": "3fc2abc7",
   "metadata": {},
   "outputs": [
    {
     "name": "stdout",
     "output_type": "stream",
     "text": [
      "Jai\n"
     ]
    }
   ],
   "source": [
    "myname=\"Jai\"\n",
    "print(myname)"
   ]
  },
  {
   "cell_type": "markdown",
   "id": "735bf90c",
   "metadata": {},
   "source": [
    "3. Correct the following python line\n",
    "\n",
    "print(\"Hi)"
   ]
  },
  {
   "cell_type": "code",
   "execution_count": 2,
   "id": "f802134a",
   "metadata": {},
   "outputs": [
    {
     "name": "stdout",
     "output_type": "stream",
     "text": [
      "Hi\n"
     ]
    }
   ],
   "source": [
    "print(\"Hi\")"
   ]
  },
  {
   "cell_type": "markdown",
   "id": "50dfd8d5",
   "metadata": {},
   "source": [
    "4. Do the addition of any two numbers and display the output"
   ]
  },
  {
   "cell_type": "code",
   "execution_count": 3,
   "id": "402e90eb",
   "metadata": {},
   "outputs": [
    {
     "name": "stdout",
     "output_type": "stream",
     "text": [
      "78\n"
     ]
    }
   ],
   "source": [
    "a=23\n",
    "b=55\n",
    "c=a+b\n",
    "print(c)"
   ]
  },
  {
   "cell_type": "markdown",
   "id": "43935565",
   "metadata": {},
   "source": [
    "5. Correct the following python code\n",
    "\n",
    "1var = 10 "
   ]
  },
  {
   "cell_type": "code",
   "execution_count": 4,
   "id": "c7eb778a",
   "metadata": {},
   "outputs": [],
   "source": [
    "var1=10"
   ]
  }
 ],
 "metadata": {
  "kernelspec": {
   "display_name": "Python 3",
   "language": "python",
   "name": "python3"
  },
  "language_info": {
   "codemirror_mode": {
    "name": "ipython",
    "version": 3
   },
   "file_extension": ".py",
   "mimetype": "text/x-python",
   "name": "python",
   "nbconvert_exporter": "python",
   "pygments_lexer": "ipython3",
   "version": "3.8.8"
  }
 },
 "nbformat": 4,
 "nbformat_minor": 5
}
